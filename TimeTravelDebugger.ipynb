{
 "cells": [
  {
   "cell_type": "markdown",
   "metadata": {},
   "source": [
    "# Time Travel Debugger project"
   ]
  },
  {
   "cell_type": "markdown",
   "metadata": {},
   "source": [
    "## Personal Information"
   ]
  },
  {
   "cell_type": "code",
   "execution_count": 1,
   "metadata": {},
   "outputs": [],
   "source": [
    "PROJECT_TYPE = 2\n",
    "NAME = [\"Daniel Gusenburger\", \"Daniel Tabellion\"]\n",
    "ID = [\"2544941\", \"2555742\"]\n",
    "IMPLEMENTED = set()"
   ]
  },
  {
   "cell_type": "markdown",
   "metadata": {},
   "source": [
    "## High-level Explanation:\n",
    "\n",
    "We structured our code into `model`, `view` and `domain` folders.\n",
    "\n",
    "Our debugger starts by running through the given function that should be examined, tracing every execution point.\n",
    "The `TimeTravelTracer` in the `tracer.py` module is responsible for building up the information we need for later stepping through the given function. Each point of execution is captured by an instance of an `ExecStateDiff`.\n",
    "Each `ExecStateDiff` stores a list of currently open function scopes(represented by the model class `FunctionStateDiff`) and it's action, that it performed(\"CALL\",\"RETURN\", \"UPDATE\" and \"EXCEPTION\"). These function scopes contain some information about the function itself, added variables and the values of changed variable, before and after the update.\n",
    "The tracer also builds a source map, that contains all source lines of functions that we trace.\n",
    "\n",
    "When done tracing, the list of diffs is given to the `TimeTravelDebugger` in the `debugger.py`.\n",
    "This class is responsible for taking commands and mapping these to simple step commands, implemented in the `StateMachine`. \n",
    "The `StateMachine` keeps track of the absolute values for variables and class members for open function scopes while stepping through the programm.\n",
    "\n",
    "With this compartmenalization we make sure, that we can use the main debugger implementation for both the CLI and the GUI."
   ]
  },
  {
   "cell_type": "markdown",
   "metadata": {},
   "source": [
    "## Features:\n"
   ]
  },
  {
   "cell_type": "markdown",
   "metadata": {},
   "source": [
    "**/R1 Quit:**\n",
    "    \n",
    "For quitting we just call sys.exit(1).\n",
    "Also we catch KeyboardInterrupt and EOF exceptions, such that CTRL-C does not leave the debugger, which leads to a cleaner user experience.\n",
    "\n",
    "One can leave the debugger via the `quit` command or with CTRL-D, which opens a prompt, that asks if you really want to leave.\n"
   ]
  },
  {
   "cell_type": "code",
   "execution_count": 2,
   "metadata": {},
   "outputs": [],
   "source": [
    "IMPLEMENTED.add(\"/R1/\")"
   ]
  },
  {
   "cell_type": "markdown",
   "metadata": {},
   "source": [
    "**/R2 Help:**\n",
    "\n",
    "For the help command, we used the already present structure from the lecture, so every command, that is named `*_command` is interpreted as a command and appears in the help list. Also docstrings are printed after each command, to give a better understanding of the commands."
   ]
  },
  {
   "cell_type": "code",
   "execution_count": 3,
   "metadata": {},
   "outputs": [],
   "source": [
    "IMPLEMENTED.add(\"/R2/\")"
   ]
  },
  {
   "cell_type": "markdown",
   "metadata": {},
   "source": [
    "**/R3:**\n",
    "\n",
    "For each command we did argument validation in the corresponding `debugger.py` commands."
   ]
  },
  {
   "cell_type": "code",
   "execution_count": 4,
   "metadata": {},
   "outputs": [],
   "source": [
    "IMPLEMENTED.add(\"/R3/\")"
   ]
  },
  {
   "cell_type": "markdown",
   "metadata": {},
   "source": [
    "**/R4 Step and /R5 Backstep:**\n",
    "\n",
    "For stepping forwards (and backwards) we implemented the `StateMachine` class which, as the name implies, represents a simple state machine (We can interpret all possible states of the program to be debugged as a simple state machine, where our stored diffs are translations and the absolute current state of variables in function scopes are the nodes).\n",
    "The purpose of the state machine is to implement `step` and `backstep`, in order to later build more complex movement commands leveraging these two.\n",
    "\n",
    "Importantly, for this we need `step` and `backstep` to correctly build(or restore) the absolute state of variables from the given diffs.\n",
    "In order to make this easier we added the `FunctionStates` helper class, which is a dictionary that maps from function names to a list of open scopes and their local variable values at the current point in time. Also for each function we store, which of these scopes is the active one. This represents the absolute state of any function scope at any given point in time.\n",
    "The StateMachine always stores its current point in the diff list, so it knows what action comes next.\n",
    "\n",
    "When calling a function, we append a new scope (dictionary of variables) to the list of open scopes for this function, add the parameters given by the current diff to that dictionary and point at that new scope as active.\n",
    "Step one diff further.\n",
    "\n",
    "Reverting a function call deletes the topmost scope of the called function(We don't lose information here, since we can restore its state again, when performing the call while stepping forward).\n",
    "Go one diff back.\n",
    "\n",
    "When we return from a function we do nothing but go to the next diff.\n",
    "We do not delete the newest scope, since we want to keep it in case we step backwards and need to restore it.\n",
    "We also don't need to update or add any variables, since a return always triggers after we updated the state for the last line of a function.\n",
    "\n",
    "Reverting a return does nothing but going one diff back, for the same reasons as for return.\n",
    "\n",
    "When not doing a call or a return, we update the state of the variables, given the next diff.\n",
    "We add any added variables and update the state of variables that got changed in the current scope of the active function.\n",
    "\n",
    "Reverting an update removes added variables from the active scope and reverts the values before the update(stored in the diff).\n",
    "\n",
    "If the current diff's action is an \"EXCEPTION\" we do nothing, since this is the end of the tracing and printing the exception is part of the CLI, not the debugger class.\n",
    "\n",
    "By showing that these two actions are sound we can make our lifes a lot easier for all other movement commands!\n",
    "\n",
    "We also have a `@trigger_update` annotation for each movement function that triggers the UI to update. This ensures, that we always print the current state of the pointer in the code."
   ]
  },
  {
   "cell_type": "code",
   "execution_count": 5,
   "metadata": {},
   "outputs": [],
   "source": [
    "IMPLEMENTED.add(\"/R4/\")"
   ]
  },
  {
   "cell_type": "code",
   "execution_count": 6,
   "metadata": {},
   "outputs": [],
   "source": [
    "IMPLEMENTED.add(\"/R5/\")"
   ]
  },
  {
   "cell_type": "markdown",
   "metadata": {},
   "source": [
    "**/R6 next and /R7 previous:**\n",
    "\n",
    "`next` is the same as `until` without parameters.\n",
    "`previous` is the same as `backuntil` without parameters."
   ]
  },
  {
   "cell_type": "code",
   "execution_count": 7,
   "metadata": {},
   "outputs": [],
   "source": [
    "IMPLEMENTED.add(\"/R6/\")"
   ]
  },
  {
   "cell_type": "code",
   "execution_count": 8,
   "metadata": {},
   "outputs": [],
   "source": [
    "IMPLEMENTED.add(\"/R7/\")"
   ]
  },
  {
   "cell_type": "markdown",
   "metadata": {},
   "source": [
    "**/R8 finish:**\n",
    "\n",
    "Call `step` until the current diff's stored action is \"return\" and the current diff is in the same \"depth\" of execution.\n",
    "With depth we denote the number of open functions (like in a callstack).\n",
    "By that we ensure, that we ignore return actions from other functions and we realy only run right before the return action of the current function is performed.\n",
    "\n",
    "If we perform `finish` on the end of a function this condition obviously holds and we only update the UI."
   ]
  },
  {
   "cell_type": "code",
   "execution_count": 9,
   "metadata": {},
   "outputs": [],
   "source": [
    "IMPLEMENTED.add(\"/R8/\")"
   ]
  },
  {
   "cell_type": "markdown",
   "metadata": {},
   "source": [
    "**/R9 start:**\n",
    "\n",
    "Similar as for `finish`, but call `backstep` until the current diff's  action in the same depth is \"CALL\"."
   ]
  },
  {
   "cell_type": "code",
   "execution_count": 10,
   "metadata": {},
   "outputs": [],
   "source": [
    "IMPLEMENTED.add(\"/R9/\")"
   ]
  },
  {
   "cell_type": "code",
   "execution_count": 11,
   "metadata": {},
   "outputs": [
    {
     "name": "stdout",
     "output_type": "stream",
     "text": [
      "{'/R2/', '/R5/', '/R4/', '/R3/', '/R6/', '/R8/', '/R9/', '/R1/', '/R7/'}\n"
     ]
    }
   ],
   "source": [
    "print(IMPLEMENTED)"
   ]
  },
  {
   "cell_type": "markdown",
   "metadata": {},
   "source": [
    "## Implementation"
   ]
  },
  {
   "cell_type": "code",
   "execution_count": 12,
   "metadata": {
    "scrolled": false
   },
   "outputs": [
    {
     "data": {
      "application/vnd.jupyter.widget-view+json": {
       "model_id": "bc9d53cbecfa4827a64bf9ad29025e4b",
       "version_major": 2,
       "version_minor": 0
      },
      "text/plain": [
       "HBox(children=(Button(description='Add breakpoint', icon='plus', style=ButtonStyle(), tooltip='Add a function …"
      ]
     },
     "metadata": {},
     "output_type": "display_data"
    },
    {
     "data": {
      "application/vnd.jupyter.widget-view+json": {
       "model_id": "d96995c2281b4beb8df600722e1b9911",
       "version_major": 2,
       "version_minor": 0
      },
      "text/plain": [
       "HTML(value='\\n            <style>\\n               .jupyter-widgets-output-area .output_scroll {\\n             …"
      ]
     },
     "metadata": {},
     "output_type": "display_data"
    },
    {
     "data": {
      "application/vnd.jupyter.widget-view+json": {
       "model_id": "400846bb3fae4e8e9cc9227263006530",
       "version_major": 2,
       "version_minor": 0
      },
      "text/plain": [
       "HBox(children=(Play(value=0), IntSlider(value=500, description='Delay (ms)', max=1000, min=100, step=100), Tog…"
      ]
     },
     "metadata": {},
     "output_type": "display_data"
    },
    {
     "data": {
      "application/vnd.jupyter.widget-view+json": {
       "model_id": "f4c8a9bed64b43668da5ab2486a02bf8",
       "version_major": 2,
       "version_minor": 0
      },
      "text/plain": [
       "GridspecLayout(children=(HBox(children=(HTML(value=''),), layout=Layout(border='2px solid black', grid_area='w…"
      ]
     },
     "metadata": {},
     "output_type": "display_data"
    }
   ],
   "source": [
    "from time_travel_debugger.view.gui import GUI\n",
    "from time_travel_debugger.view.cli import TimeTravelCLI\n",
    "from main import remove_html_markup\n",
    "\n",
    "    \n",
    "with GUI():\n",
    "    remove_html_markup(\"<tag>hallo</tag>\")"
   ]
  },
  {
   "cell_type": "markdown",
   "metadata": {},
   "source": [
    "## Presentation"
   ]
  },
  {
   "cell_type": "markdown",
   "metadata": {},
   "source": [
    "## Summary"
   ]
  },
  {
   "cell_type": "code",
   "execution_count": null,
   "metadata": {},
   "outputs": [],
   "source": []
  }
 ],
 "metadata": {
  "kernelspec": {
   "display_name": "Python 3",
   "language": "python",
   "name": "python3"
  },
  "language_info": {
   "codemirror_mode": {
    "name": "ipython",
    "version": 3
   },
   "file_extension": ".py",
   "mimetype": "text/x-python",
   "name": "python",
   "nbconvert_exporter": "python",
   "pygments_lexer": "ipython3",
   "version": "3.9.0"
  },
  "nbdime-conflicts": {
   "local_diff": [
    {
     "key": "language_info",
     "op": "add",
     "value": {
      "codemirror_mode": {
       "name": "ipython",
       "version": 3
      },
      "file_extension": ".py",
      "mimetype": "text/x-python",
      "name": "python",
      "nbconvert_exporter": "python",
      "pygments_lexer": "ipython3",
      "version": "3.9.0"
     }
    }
   ],
   "remote_diff": [
    {
     "key": "language_info",
     "op": "add",
     "value": {
      "codemirror_mode": {
       "name": "ipython",
       "version": 3
      },
      "file_extension": ".py",
      "mimetype": "text/x-python",
      "name": "python",
      "nbconvert_exporter": "python",
      "pygments_lexer": "ipython3",
      "version": "3.7.9"
     }
    }
   ]
  }
 },
 "nbformat": 4,
 "nbformat_minor": 4
}
