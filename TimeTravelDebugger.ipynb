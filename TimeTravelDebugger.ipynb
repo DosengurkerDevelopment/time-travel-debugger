{
 "cells": [
  {
   "cell_type": "markdown",
   "metadata": {},
   "source": [
    "# Time Travel Debugger project"
   ]
  },
  {
   "cell_type": "markdown",
   "metadata": {},
   "source": [
    "## Personal Information"
   ]
  },
  {
   "cell_type": "code",
   "execution_count": 1,
   "metadata": {},
   "outputs": [],
   "source": [
    "PROJECT_TYPE = 2\n",
    "NAME = [\"Daniel Gusenburger\", \"Daniel Tabellion\"]\n",
    "ID = [\"2544941\", \"2555742\"]\n",
    "IMPLEMENTED = set()"
   ]
  },
  {
   "cell_type": "code",
   "execution_count": 2,
   "metadata": {},
   "outputs": [
    {
     "name": "stdout",
     "output_type": "stream",
     "text": [
      "Implemented features: set()\n"
     ]
    }
   ],
   "source": [
    "print(f\"Implemented features: {IMPLEMENTED}\")"
   ]
  },
  {
   "cell_type": "markdown",
   "metadata": {},
   "source": [
    "## Implementation"
   ]
  },
  {
   "cell_type": "code",
   "execution_count": 6,
   "metadata": {},
   "outputs": [
    {
     "name": "stdout",
     "output_type": "stream",
     "text": [
      "<!doctype html>\n",
      "<div class=\"time_travel_debugger\">\n",
      "\t\n",
      "\t\t<p class=\"code\"></p>\n",
      "\t\n",
      "\t\t<p class=\"code\">def hello(name):</p>\n",
      "\t\n",
      "\t\t<p class=\"code\">    name += \"!\"</p>\n",
      "\t\n",
      "\t\t<p class=\"code\">    print(\"Hello\" + name)</p>\n",
      "\t\n",
      "\t\t<p class=\"code\"></p>\n",
      "\t\n",
      "</div>\n",
      "penis\n"
     ]
    },
    {
     "data": {
      "text/html": [
       "<!doctype html>\n",
       "<div class=\"time_travel_debugger\">\n",
       "\t\n",
       "\t\t<p class=\"code\"></p>\n",
       "\t\n",
       "\t\t<p class=\"code\">def hello(name):</p>\n",
       "\t\n",
       "\t\t<p class=\"code\">    name += \"!\"</p>\n",
       "\t\n",
       "\t\t<p class=\"code\">    print(\"Hello\" + name)</p>\n",
       "\t\n",
       "\t\t<p class=\"code\"></p>\n",
       "\t\n",
       "</div>"
      ],
      "text/plain": [
       "<IPython.core.display.HTML object>"
      ]
     },
     "execution_count": 6,
     "metadata": {},
     "output_type": "execute_result"
    }
   ],
   "source": [
    "from time_travel_debugger.view.gui.gui import GUI\n",
    "\n",
    "gui = GUI()\n",
    "gui.update(None, None)"
   ]
  },
  {
   "cell_type": "markdown",
   "metadata": {},
   "source": [
    "## Presentation"
   ]
  },
  {
   "cell_type": "markdown",
   "metadata": {},
   "source": [
    "## Summary"
   ]
  }
 ],
 "metadata": {
  "kernelspec": {
   "display_name": "Python 3",
   "language": "python",
   "name": "python3"
  },
  "language_info": {
   "codemirror_mode": {
    "name": "ipython",
    "version": 3
   },
   "file_extension": ".py",
   "mimetype": "text/x-python",
   "name": "python",
   "nbconvert_exporter": "python",
   "pygments_lexer": "ipython3",
   "version": "3.9.0"
  }
 },
 "nbformat": 4,
 "nbformat_minor": 4
}
